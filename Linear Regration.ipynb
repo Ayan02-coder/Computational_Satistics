{
  "nbformat": 4,
  "nbformat_minor": 0,
  "metadata": {
    "colab": {
      "provenance": [],
      "authorship_tag": "ABX9TyMHhgZUrAeP5nqZ1W7NOPcT",
      "include_colab_link": true
    },
    "kernelspec": {
      "name": "python3",
      "display_name": "Python 3"
    },
    "language_info": {
      "name": "python"
    }
  },
  "cells": [
    {
      "cell_type": "markdown",
      "metadata": {
        "id": "view-in-github",
        "colab_type": "text"
      },
      "source": [
        "<a href=\"https://colab.research.google.com/github/Ayan02-coder/Computational_Satistics/blob/main/Linear%20Regration.ipynb\" target=\"_parent\"><img src=\"https://colab.research.google.com/assets/colab-badge.svg\" alt=\"Open In Colab\"/></a>"
      ]
    },
    {
      "cell_type": "markdown",
      "source": [
        "**linnerud** **Dataset**  Linear Regration  ( Physical Exersize Linnerud Daraset)"
      ],
      "metadata": {
        "id": "sY3s88r1JiXF"
      }
    },
    {
      "cell_type": "code",
      "source": [
        "from sklearn import datasets\n",
        "from sklearn import linear_model\n",
        "from sklearn.metrics import mean_squared_error, r2_score\n",
        "import matplotlib.pyplot as plt\n",
        "import numpy as np"
      ],
      "metadata": {
        "id": "1M3XQdV1JgOG"
      },
      "execution_count": 40,
      "outputs": []
    },
    {
      "cell_type": "code",
      "source": [
        "df_X, df_y = datasets.load_linnerud(return_X_y=True)"
      ],
      "metadata": {
        "id": "WGDE3Ok8JvgX"
      },
      "execution_count": 41,
      "outputs": []
    },
    {
      "cell_type": "code",
      "source": [
        "df_X = df_X[:, np.newaxis, 2]"
      ],
      "metadata": {
        "id": "clGfGU6iJ9JX"
      },
      "execution_count": 42,
      "outputs": []
    },
    {
      "cell_type": "code",
      "source": [
        "df_X_train = df_X[:-10]\n",
        "df_X_test = df_X[-10:]\n"
      ],
      "metadata": {
        "id": "2K4qxZHPKE4Y"
      },
      "execution_count": 43,
      "outputs": []
    },
    {
      "cell_type": "code",
      "source": [
        "df_y_train = df_y[:-10]\n",
        "df_y_test = df_y[-10:]"
      ],
      "metadata": {
        "id": "NnSbmB-BKMqX"
      },
      "execution_count": 44,
      "outputs": []
    },
    {
      "cell_type": "code",
      "source": [
        "regr = linear_model.LinearRegression()"
      ],
      "metadata": {
        "id": "GdGBZLwOKU8l"
      },
      "execution_count": 45,
      "outputs": []
    },
    {
      "cell_type": "code",
      "source": [
        "regr.fit(df_X_train, df_y_train)"
      ],
      "metadata": {
        "colab": {
          "base_uri": "https://localhost:8080/"
        },
        "id": "WO4WT-_1KZ_a",
        "outputId": "2c5d76c4-b5e3-4fe2-c6c0-68982ab72c55"
      },
      "execution_count": 46,
      "outputs": [
        {
          "output_type": "execute_result",
          "data": {
            "text/plain": [
              "LinearRegression()"
            ]
          },
          "metadata": {},
          "execution_count": 46
        }
      ]
    },
    {
      "cell_type": "code",
      "source": [
        "df_y_pred = regr.predict(df_X_test)"
      ],
      "metadata": {
        "id": "axglSjjWLA8K"
      },
      "execution_count": 47,
      "outputs": []
    },
    {
      "cell_type": "code",
      "source": [
        "print(\"Coefficients: \\n\", regr.coef_)"
      ],
      "metadata": {
        "colab": {
          "base_uri": "https://localhost:8080/"
        },
        "id": "FZJoUNYELFGs",
        "outputId": "1aa3cd9b-6446-41f2-b369-d15ae1bab2ab"
      },
      "execution_count": 48,
      "outputs": [
        {
          "output_type": "stream",
          "name": "stdout",
          "text": [
            "Coefficients: \n",
            " [[-0.11909408]\n",
            " [-0.00727284]\n",
            " [-0.01570391]]\n"
          ]
        }
      ]
    },
    {
      "cell_type": "code",
      "source": [
        "print(\"Mean squared error: %.2f\" % mean_squared_error(df_y_test, df_y_pred))"
      ],
      "metadata": {
        "colab": {
          "base_uri": "https://localhost:8080/"
        },
        "id": "lkua2SGJLOgX",
        "outputId": "089326ea-eb1e-461d-c2ca-5f838f920daf"
      },
      "execution_count": 49,
      "outputs": [
        {
          "output_type": "stream",
          "name": "stdout",
          "text": [
            "Mean squared error: 326.82\n"
          ]
        }
      ]
    },
    {
      "cell_type": "code",
      "source": [
        "print(\"Coefficient of determination: %.2f\" % r2_score(df_y_test, df_y_pred))"
      ],
      "metadata": {
        "colab": {
          "base_uri": "https://localhost:8080/"
        },
        "id": "g5qiYPVHLT53",
        "outputId": "13a18167-3f1c-473a-9ab2-8451139bd730"
      },
      "execution_count": 50,
      "outputs": [
        {
          "output_type": "stream",
          "name": "stdout",
          "text": [
            "Coefficient of determination: -0.05\n"
          ]
        }
      ]
    },
    {
      "cell_type": "code",
      "source": [
        "plt.scatter(df_X_test, df_y_test, color=\"black\")\n",
        "plt.plot(df_X_test, df_y_pred, color=\"blue\", linewidth=3)\n",
        "plt.xticks(())\n",
        "plt.yticks(())\n",
        "plt.show()"
      ],
      "metadata": {
        "colab": {
          "base_uri": "https://localhost:8080/",
          "height": 252
        },
        "id": "ra6oIgBtLaSU",
        "outputId": "02b625d0-aed5-4787-def4-14d24b8f646b"
      },
      "execution_count": 54,
      "outputs": [
        {
          "output_type": "display_data",
          "data": {
            "text/plain": [
              "<Figure size 432x288 with 1 Axes>"
            ],
            "image/png": "[encoded data removed]"
          },
          "metadata": {}
        }
      ]
    },
    {
      "cell_type": "code",
      "source": [
        "from sklearn import datasets\n",
        "from sklearn import linear_model\n",
        "from sklearn.metrics import mean_squared_error, r2_score\n",
        "import matplotlib.pyplot as plt\n",
        "import numpy as np\n",
        "\n",
        "df_X, df_y = datasets.load_linnerud(return_X_y=True)\n",
        "\n",
        "df_X_train = df_X[:-10]\n",
        "df_X_test = df_X[-10:]\n",
        "\n",
        "df_y_train = df_y[:-10]\n",
        "df_y_test = df_y[-10:]\n",
        "\n",
        "regr = linear_model.LinearRegression()\n",
        "regr.fit(df_X_train, df_y_train)\n",
        "df_y_pred = regr.predict(df_X_test)\n",
        "\n",
        "print(\"Coefficients: \\n\", regr.coef_)\n",
        "print(\"Mean squared error: %.2f\" % mean_squared_error(df_y_test, df_y_pred))\n",
        "print(\"Coefficient of determination: %.2f\" % r2_score(df_y_test, df_y_pred))\n",
        "\n",
        "plt.scatter(df_X_test, df_y_test, color=\"black\")\n",
        "plt.plot(df_X_test, df_y_pred, color=\"blue\", linewidth=3)\n",
        "\n",
        "plt.xticks(())\n",
        "plt.yticks(())\n",
        "\n",
        "plt.show()"
      ],
      "metadata": {
        "colab": {
          "base_uri": "https://localhost:8080/",
          "height": 356
        },
        "id": "_qEsTJ84L7Vb",
        "outputId": "d75383ec-4bef-459f-85d5-ab08faba30ba"
      },
      "execution_count": 53,
      "outputs": [
        {
          "output_type": "stream",
          "name": "stdout",
          "text": [
            "Coefficients: \n",
            " [[-0.44285531 -0.1017747  -0.04579565]\n",
            " [-0.09079547 -0.04508535  0.02088824]\n",
            " [ 0.78822649  0.03155773 -0.06504933]]\n",
            "Mean squared error: 277.20\n",
            "Coefficient of determination: -0.06\n"
          ]
        },
        {
          "output_type": "display_data",
          "data": {
            "text/plain": [
              "<Figure size 432x288 with 1 Axes>"
            ],
            "image/png": "[encoded data removed]"
          },
          "metadata": {}
        }
      ]
    }
  ]
}