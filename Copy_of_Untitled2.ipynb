{
  "nbformat": 4,
  "nbformat_minor": 0,
  "metadata": {
    "colab": {
      "provenance": [],
      "authorship_tag": "ABX9TyOEQOUt45jGBWYPNcm3M752",
      "include_colab_link": true
    },
    "kernelspec": {
      "name": "python3",
      "display_name": "Python 3"
    },
    "language_info": {
      "name": "python"
    }
  },
  "cells": [
    {
      "cell_type": "markdown",
      "metadata": {
        "id": "view-in-github",
        "colab_type": "text"
      },
      "source": [
        "<a href=\"https://colab.research.google.com/github/Ayan02-coder/Computational_Satistics/blob/main/Copy_of_Untitled2.ipynb\" target=\"_parent\"><img src=\"https://colab.research.google.com/assets/colab-badge.svg\" alt=\"Open In Colab\"/></a>"
      ]
    },
    {
      "cell_type": "code",
      "execution_count": null,
      "metadata": {
        "id": "Cl1wHM_J5Gvn"
      },
      "outputs": [],
      "source": [
        "import pandas as pd\n",
        "import numpy as np\n",
        "import matplotlib.pyplot as plt\n",
        "import seaborn as sns"
      ]
    },
    {
      "cell_type": "code",
      "source": [
        "from sklearn.datasets import load_linnerud\n",
        "\n",
        "X,y = load_linnerud(return_X_y=True)"
      ],
      "metadata": {
        "id": "H-mLjjI15jf6"
      },
      "execution_count": null,
      "outputs": []
    },
    {
      "cell_type": "code",
      "source": [
        "df1=pd.DataFrame(X, columns=[\"Weight\",\"Waist\",\"Pules\"])\n",
        "print(df1)"
      ],
      "metadata": {
        "colab": {
          "base_uri": "https://localhost:8080/"
        },
        "id": "ron720V_6D-I",
        "outputId": "b4d985ab-bb33-4465-e514-c77a59d675b6"
      },
      "execution_count": null,
      "outputs": [
        {
          "output_type": "stream",
          "name": "stdout",
          "text": [
            "    Weight  Waist  Pules\n",
            "0      5.0  162.0   60.0\n",
            "1      2.0  110.0   60.0\n",
            "2     12.0  101.0  101.0\n",
            "3     12.0  105.0   37.0\n",
            "4     13.0  155.0   58.0\n",
            "5      4.0  101.0   42.0\n",
            "6      8.0  101.0   38.0\n",
            "7      6.0  125.0   40.0\n",
            "8     15.0  200.0   40.0\n",
            "9     17.0  251.0  250.0\n",
            "10    17.0  120.0   38.0\n",
            "11    13.0  210.0  115.0\n",
            "12    14.0  215.0  105.0\n",
            "13     1.0   50.0   50.0\n",
            "14     6.0   70.0   31.0\n",
            "15    12.0  210.0  120.0\n",
            "16     4.0   60.0   25.0\n",
            "17    11.0  230.0   80.0\n",
            "18    15.0  225.0   73.0\n",
            "19     2.0  110.0   43.0\n"
          ]
        }
      ]
    },
    {
      "cell_type": "code",
      "source": [
        "df2=pd.DataFrame(y, columns=[\"chins\",\"sit_ups\",\"jumps\"])\n",
        "print(df2)"
      ],
      "metadata": {
        "colab": {
          "base_uri": "https://localhost:8080/"
        },
        "id": "7x3cVwWS6oio",
        "outputId": "7ff7749f-a939-4cec-f1ba-8aa5584aa833"
      },
      "execution_count": null,
      "outputs": [
        {
          "output_type": "stream",
          "name": "stdout",
          "text": [
            "    chins  sit_ups  jumps\n",
            "0   191.0     36.0   50.0\n",
            "1   189.0     37.0   52.0\n",
            "2   193.0     38.0   58.0\n",
            "3   162.0     35.0   62.0\n",
            "4   189.0     35.0   46.0\n",
            "5   182.0     36.0   56.0\n",
            "6   211.0     38.0   56.0\n",
            "7   167.0     34.0   60.0\n",
            "8   176.0     31.0   74.0\n",
            "9   154.0     33.0   56.0\n",
            "10  169.0     34.0   50.0\n",
            "11  166.0     33.0   52.0\n",
            "12  154.0     34.0   64.0\n",
            "13  247.0     46.0   50.0\n",
            "14  193.0     36.0   46.0\n",
            "15  202.0     37.0   62.0\n",
            "16  176.0     37.0   54.0\n",
            "17  157.0     32.0   52.0\n",
            "18  156.0     33.0   54.0\n",
            "19  138.0     33.0   68.0\n"
          ]
        }
      ]
    },
    {
      "cell_type": "code",
      "source": [
        "df=pd.merge(df1,df2,left_index=True,right_index=True)\n",
        "df"
      ],
      "metadata": {
        "colab": {
          "base_uri": "https://localhost:8080/",
          "height": 669
        },
        "id": "JnS9_jiU67c9",
        "outputId": "28afef55-b6c7-4732-b4bf-72c2e7e90015"
      },
      "execution_count": null,
      "outputs": [
        {
          "output_type": "execute_result",
          "data": {
            "text/plain": [
              "    Weight  Waist  Pules  chins  sit_ups  jumps\n",
              "0      5.0  162.0   60.0  191.0     36.0   50.0\n",
              "1      2.0  110.0   60.0  189.0     37.0   52.0\n",
              "2     12.0  101.0  101.0  193.0     38.0   58.0\n",
              "3     12.0  105.0   37.0  162.0     35.0   62.0\n",
              "4     13.0  155.0   58.0  189.0     35.0   46.0\n",
              "5      4.0  101.0   42.0  182.0     36.0   56.0\n",
              "6      8.0  101.0   38.0  211.0     38.0   56.0\n",
              "7      6.0  125.0   40.0  167.0     34.0   60.0\n",
              "8     15.0  200.0   40.0  176.0     31.0   74.0\n",
              "9     17.0  251.0  250.0  154.0     33.0   56.0\n",
              "10    17.0  120.0   38.0  169.0     34.0   50.0\n",
              "11    13.0  210.0  115.0  166.0     33.0   52.0\n",
              "12    14.0  215.0  105.0  154.0     34.0   64.0\n",
              "13     1.0   50.0   50.0  247.0     46.0   50.0\n",
              "14     6.0   70.0   31.0  193.0     36.0   46.0\n",
              "15    12.0  210.0  120.0  202.0     37.0   62.0\n",
              "16     4.0   60.0   25.0  176.0     37.0   54.0\n",
              "17    11.0  230.0   80.0  157.0     32.0   52.0\n",
              "18    15.0  225.0   73.0  156.0     33.0   54.0\n",
              "19     2.0  110.0   43.0  138.0     33.0   68.0"
            ],
            "text/html": [
              "\n",
              "  <div id=\"df-013be718-bdf3-4b85-91ee-a91d1dfdd853\">\n",
              "    <div class=\"colab-df-container\">\n",
              "      <div>\n",
              "<style scoped>\n",
              "    .dataframe tbody tr th:only-of-type {\n",
              "        vertical-align: middle;\n",
              "    }\n",
              "\n",
              "    .dataframe tbody tr th {\n",
              "        vertical-align: top;\n",
              "    }\n",
              "\n",
              "    .dataframe thead th {\n",
              "        text-align: right;\n",
              "    }\n",
              "</style>\n",
              "<table border=\"1\" class=\"dataframe\">\n",
              "  <thead>\n",
              "    <tr style=\"text-align: right;\">\n",
              "      <th></th>\n",
              "      <th>Weight</th>\n",
              "      <th>Waist</th>\n",
              "      <th>Pules</th>\n",
              "      <th>chins</th>\n",
              "      <th>sit_ups</th>\n",
              "      <th>jumps</th>\n",
              "    </tr>\n",
              "  </thead>\n",
              "  <tbody>\n",
              "    <tr>\n",
              "      <th>0</th>\n",
              "      <td>5.0</td>\n",
              "      <td>162.0</td>\n",
              "      <td>60.0</td>\n",
              "      <td>191.0</td>\n",
              "      <td>36.0</td>\n",
              "      <td>50.0</td>\n",
              "    </tr>\n",
              "    <tr>\n",
              "      <th>1</th>\n",
              "      <td>2.0</td>\n",
              "      <td>110.0</td>\n",
              "      <td>60.0</td>\n",
              "      <td>189.0</td>\n",
              "      <td>37.0</td>\n",
              "      <td>52.0</td>\n",
              "    </tr>\n",
              "    <tr>\n",
              "      <th>2</th>\n",
              "      <td>12.0</td>\n",
              "      <td>101.0</td>\n",
              "      <td>101.0</td>\n",
              "      <td>193.0</td>\n",
              "      <td>38.0</td>\n",
              "      <td>58.0</td>\n",
              "    </tr>\n",
              "    <tr>\n",
              "      <th>3</th>\n",
              "      <td>12.0</td>\n",
              "      <td>105.0</td>\n",
              "      <td>37.0</td>\n",
              "      <td>162.0</td>\n",
              "      <td>35.0</td>\n",
              "      <td>62.0</td>\n",
              "    </tr>\n",
              "    <tr>\n",
              "      <th>4</th>\n",
              "      <td>13.0</td>\n",
              "      <td>155.0</td>\n",
              "      <td>58.0</td>\n",
              "      <td>189.0</td>\n",
              "      <td>35.0</td>\n",
              "      <td>46.0</td>\n",
              "    </tr>\n",
              "    <tr>\n",
              "      <th>5</th>\n",
              "      <td>4.0</td>\n",
              "      <td>101.0</td>\n",
              "      <td>42.0</td>\n",
              "      <td>182.0</td>\n",
              "      <td>36.0</td>\n",
              "      <td>56.0</td>\n",
              "    </tr>\n",
              "    <tr>\n",
              "      <th>6</th>\n",
              "      <td>8.0</td>\n",
              "      <td>101.0</td>\n",
              "      <td>38.0</td>\n",
              "      <td>211.0</td>\n",
              "      <td>38.0</td>\n",
              "      <td>56.0</td>\n",
              "    </tr>\n",
              "    <tr>\n",
              "      <th>7</th>\n",
              "      <td>6.0</td>\n",
              "      <td>125.0</td>\n",
              "      <td>40.0</td>\n",
              "      <td>167.0</td>\n",
              "      <td>34.0</td>\n",
              "      <td>60.0</td>\n",
              "    </tr>\n",
              "    <tr>\n",
              "      <th>8</th>\n",
              "      <td>15.0</td>\n",
              "      <td>200.0</td>\n",
              "      <td>40.0</td>\n",
              "      <td>176.0</td>\n",
              "      <td>31.0</td>\n",
              "      <td>74.0</td>\n",
              "    </tr>\n",
              "    <tr>\n",
              "      <th>9</th>\n",
              "      <td>17.0</td>\n",
              "      <td>251.0</td>\n",
              "      <td>250.0</td>\n",
              "      <td>154.0</td>\n",
              "      <td>33.0</td>\n",
              "      <td>56.0</td>\n",
              "    </tr>\n",
              "    <tr>\n",
              "      <th>10</th>\n",
              "      <td>17.0</td>\n",
              "      <td>120.0</td>\n",
              "      <td>38.0</td>\n",
              "      <td>169.0</td>\n",
              "      <td>34.0</td>\n",
              "      <td>50.0</td>\n",
              "    </tr>\n",
              "    <tr>\n",
              "      <th>11</th>\n",
              "      <td>13.0</td>\n",
              "      <td>210.0</td>\n",
              "      <td>115.0</td>\n",
              "      <td>166.0</td>\n",
              "      <td>33.0</td>\n",
              "      <td>52.0</td>\n",
              "    </tr>\n",
              "    <tr>\n",
              "      <th>12</th>\n",
              "      <td>14.0</td>\n",
              "      <td>215.0</td>\n",
              "      <td>105.0</td>\n",
              "      <td>154.0</td>\n",
              "      <td>34.0</td>\n",
              "      <td>64.0</td>\n",
              "    </tr>\n",
              "    <tr>\n",
              "      <th>13</th>\n",
              "      <td>1.0</td>\n",
              "      <td>50.0</td>\n",
              "      <td>50.0</td>\n",
              "      <td>247.0</td>\n",
              "      <td>46.0</td>\n",
              "      <td>50.0</td>\n",
              "    </tr>\n",
              "    <tr>\n",
              "      <th>14</th>\n",
              "      <td>6.0</td>\n",
              "      <td>70.0</td>\n",
              "      <td>31.0</td>\n",
              "      <td>193.0</td>\n",
              "      <td>36.0</td>\n",
              "      <td>46.0</td>\n",
              "    </tr>\n",
              "    <tr>\n",
              "      <th>15</th>\n",
              "      <td>12.0</td>\n",
              "      <td>210.0</td>\n",
              "      <td>120.0</td>\n",
              "      <td>202.0</td>\n",
              "      <td>37.0</td>\n",
              "      <td>62.0</td>\n",
              "    </tr>\n",
              "    <tr>\n",
              "      <th>16</th>\n",
              "      <td>4.0</td>\n",
              "      <td>60.0</td>\n",
              "      <td>25.0</td>\n",
              "      <td>176.0</td>\n",
              "      <td>37.0</td>\n",
              "      <td>54.0</td>\n",
              "    </tr>\n",
              "    <tr>\n",
              "      <th>17</th>\n",
              "      <td>11.0</td>\n",
              "      <td>230.0</td>\n",
              "      <td>80.0</td>\n",
              "      <td>157.0</td>\n",
              "      <td>32.0</td>\n",
              "      <td>52.0</td>\n",
              "    </tr>\n",
              "    <tr>\n",
              "      <th>18</th>\n",
              "      <td>15.0</td>\n",
              "      <td>225.0</td>\n",
              "      <td>73.0</td>\n",
              "      <td>156.0</td>\n",
              "      <td>33.0</td>\n",
              "      <td>54.0</td>\n",
              "    </tr>\n",
              "    <tr>\n",
              "      <th>19</th>\n",
              "      <td>2.0</td>\n",
              "      <td>110.0</td>\n",
              "      <td>43.0</td>\n",
              "      <td>138.0</td>\n",
              "      <td>33.0</td>\n",
              "      <td>68.0</td>\n",
              "    </tr>\n",
              "  </tbody>\n",
              "</table>\n",
              "</div>\n",
              "      <button class=\"colab-df-convert\" onclick=\"convertToInteractive('df-013be718-bdf3-4b85-91ee-a91d1dfdd853')\"\n",
              "              title=\"Convert this dataframe to an interactive table.\"\n",
              "              style=\"display:none;\">\n",
              "        \n",
              "  <svg xmlns=\"http://www.w3.org/2000/svg\" height=\"24px\"viewBox=\"0 0 24 24\"\n",
              "       width=\"24px\">\n",
              "    <path d=\"M0 0h24v24H0V0z\" fill=\"none\"/>\n",
              "    <path d=\"M18.56 5.44l.94 2.06.94-2.06 2.06-.94-2.06-.94-.94-2.06-.94 2.06-2.06.94zm-11 1L8.5 8.5l.94-2.06 2.06-.94-2.06-.94L8.5 2.5l-.94 2.06-2.06.94zm10 10l.94 2.06.94-2.06 2.06-.94-2.06-.94-.94-2.06-.94 2.06-2.06.94z\"/><path d=\"M17.41 7.96l-1.37-1.37c-.4-.4-.92-.59-1.43-.59-.52 0-1.04.2-1.43.59L10.3 9.45l-7.72 7.72c-.78.78-.78 2.05 0 2.83L4 21.41c.39.39.9.59 1.41.59.51 0 1.02-.2 1.41-.59l7.78-7.78 2.81-2.81c.8-.78.8-2.07 0-2.86zM5.41 20L4 18.59l7.72-7.72 1.47 1.35L5.41 20z\"/>\n",
              "  </svg>\n",
              "      </button>\n",
              "      \n",
              "  <style>\n",
              "    .colab-df-container {\n",
              "      display:flex;\n",
              "      flex-wrap:wrap;\n",
              "      gap: 12px;\n",
              "    }\n",
              "\n",
              "    .colab-df-convert {\n",
              "      background-color: #E8F0FE;\n",
              "      border: none;\n",
              "      border-radius: 50%;\n",
              "      cursor: pointer;\n",
              "      display: none;\n",
              "      fill: #1967D2;\n",
              "      height: 32px;\n",
              "      padding: 0 0 0 0;\n",
              "      width: 32px;\n",
              "    }\n",
              "\n",
              "    .colab-df-convert:hover {\n",
              "      background-color: #E2EBFA;\n",
              "      box-shadow: 0px 1px 2px rgba(60, 64, 67, 0.3), 0px 1px 3px 1px rgba(60, 64, 67, 0.15);\n",
              "      fill: #174EA6;\n",
              "    }\n",
              "\n",
              "    [theme=dark] .colab-df-convert {\n",
              "      background-color: #3B4455;\n",
              "      fill: #D2E3FC;\n",
              "    }\n",
              "\n",
              "    [theme=dark] .colab-df-convert:hover {\n",
              "      background-color: #434B5C;\n",
              "      box-shadow: 0px 1px 3px 1px rgba(0, 0, 0, 0.15);\n",
              "      filter: drop-shadow(0px 1px 2px rgba(0, 0, 0, 0.3));\n",
              "      fill: #FFFFFF;\n",
              "    }\n",
              "  </style>\n",
              "\n",
              "      <script>\n",
              "        const buttonEl =\n",
              "          document.querySelector('#df-013be718-bdf3-4b85-91ee-a91d1dfdd853 button.colab-df-convert');\n",
              "        buttonEl.style.display =\n",
              "          google.colab.kernel.accessAllowed ? 'block' : 'none';\n",
              "\n",
              "        async function convertToInteractive(key) {\n",
              "          const element = document.querySelector('#df-013be718-bdf3-4b85-91ee-a91d1dfdd853');\n",
              "          const dataTable =\n",
              "            await google.colab.kernel.invokeFunction('convertToInteractive',\n",
              "                                                     [key], {});\n",
              "          if (!dataTable) return;\n",
              "\n",
              "          const docLinkHtml = 'Like what you see? Visit the ' +\n",
              "            '<a target=\"_blank\" href=https://colab.research.google.com/notebooks/data_table.ipynb>data table notebook</a>'\n",
              "            + ' to learn more about interactive tables.';\n",
              "          element.innerHTML = '';\n",
              "          dataTable['output_type'] = 'display_data';\n",
              "          await google.colab.output.renderOutput(dataTable, element);\n",
              "          const docLink = document.createElement('div');\n",
              "          docLink.innerHTML = docLinkHtml;\n",
              "          element.appendChild(docLink);\n",
              "        }\n",
              "      </script>\n",
              "    </div>\n",
              "  </div>\n",
              "  "
            ]
          },
          "metadata": {},
          "execution_count": 9
        }
      ]
    },
    {
      "cell_type": "code",
      "source": [
        "corrmat=df.corr()\n",
        "f,ax=plt.subplots(figsize=(12,9))\n",
        "sns.heatmap(corrmat,vmax=.8,square=True);"
      ],
      "metadata": {
        "colab": {
          "base_uri": "https://localhost:8080/",
          "height": 542
        },
        "id": "lw6ujAXb7c8v",
        "outputId": "523a6a74-d061-44d6-ed8a-b88a6aed6c2a"
      },
      "execution_count": null,
      "outputs": [
        {
          "output_type": "display_data",
          "data": {
            "text/plain": [
              "<Figure size 864x648 with 2 Axes>"
            ],
            "image/png": "[encoded data removed]"
          },
          "metadata": {
            "needs_background": "light"
          }
        }
      ]
    },
    {
      "cell_type": "code",
      "source": [
        "sns.displot(df[\"Weight\"])\n",
        "sns.displot(df[\"Waist\"])\n",
        "sns.displot(df[\"Pules\"])"
      ],
      "metadata": {
        "colab": {
          "base_uri": "https://localhost:8080/",
          "height": 1000
        },
        "id": "6RT7HXN78k3s",
        "outputId": "aeaced57-df8f-4207-8c56-c6ee8d798f24"
      },
      "execution_count": null,
      "outputs": [
        {
          "output_type": "execute_result",
          "data": {
            "text/plain": [
              "<seaborn.axisgrid.FacetGrid at 0x7faf279f3610>"
            ]
          },
          "metadata": {},
          "execution_count": 24
        },
        {
          "output_type": "display_data",
          "data": {
            "text/plain": [
              "<Figure size 360x360 with 1 Axes>"
            ],
            "image/png": "[encoded data removed]"
          },
          "metadata": {
            "needs_background": "light"
          }
        },
        {
          "output_type": "display_data",
          "data": {
            "text/plain": [
              "<Figure size 360x360 with 1 Axes>"
            ],
            "image/png": "[encoded data removed]"
          },
          "metadata": {
            "needs_background": "light"
          }
        },
        {
          "output_type": "display_data",
          "data": {
            "text/plain": [
              "<Figure size 360x360 with 1 Axes>"
            ],
            "image/png": "[encoded data removed]"
          },
          "metadata": {
            "needs_background": "light"
          }
        }
      ]
    },
    {
      "cell_type": "code",
      "source": [
        "sns.displot(df[\"chins\"])\n",
        "sns.displot(df[\"sit_ups\"])\n",
        "sns.displot(df[\"jumps\"])"
      ],
      "metadata": {
        "colab": {
          "base_uri": "https://localhost:8080/",
          "height": 1000
        },
        "id": "p3Cw7ahf837h",
        "outputId": "0a77149e-dea8-4141-f90f-ee66483bf456"
      },
      "execution_count": null,
      "outputs": [
        {
          "output_type": "execute_result",
          "data": {
            "text/plain": [
              "<seaborn.axisgrid.FacetGrid at 0x7faf27a2bc10>"
            ]
          },
          "metadata": {},
          "execution_count": 25
        },
        {
          "output_type": "display_data",
          "data": {
            "text/plain": [
              "<Figure size 360x360 with 1 Axes>"
            ],
            "image/png": "[encoded data removed]"
          },
          "metadata": {
            "needs_background": "light"
          }
        },
        {
          "output_type": "display_data",
          "data": {
            "text/plain": [
              "<Figure size 360x360 with 1 Axes>"
            ],
            "image/png": "[encoded data removed]"
          },
          "metadata": {
            "needs_background": "light"
          }
        },
        {
          "output_type": "display_data",
          "data": {
            "text/plain": [
              "<Figure size 360x360 with 1 Axes>"
            ],
            "image/png": "[encoded data removed]"
          },
          "metadata": {
            "needs_background": "light"
          }
        }
      ]
    },
    {
      "cell_type": "code",
      "source": [
        "print(\"Max chins:\",df.chins.max(),\"  Min chins:\",df.chins.min(),\"  Chins Median:\",df.chins.median(),\"   chins Mean:\",df.chins.mean(),\"   Chins Mode:\",df.chins.mode())\n",
        "print(\"Max Weight:\",df.Weight.max(),\"  Min Weight:\",df.Weight.min(),\"  Weight Median:\",df.Weight.median(),\"   Weight Mean:\",df.Weight.mean(),\"   Weight Mode:\",df.Weight.mode())\n",
        "print(\"Max Waist:\",df.Waist.max(),\"  Min Waist:\",df.Waist.min(),\"  Waist Median:\",df.Waist.median(),\"   Waist Mean:\",df.Waist.mean(),\"   Waist Mode:\",df.Waist.mode())\n",
        "print(\"Max Pules:\",df.Pules.max(),\"  Min Pules:\",df.Pules.min(),\"  Pules Median:\",df.Pules.median(),\"   Pules Mean:\",df.Pules.mean(),\"   Pules Mode:\",df.Pules.mode())\n",
        "print(\"Max sit_ups:\",df.sit_ups.max(),\"  Min sit_ups:\",df.sit_ups.min(),\"  sit_ups Median:\",df.sit_ups.median(),\"   sit_ups Mean:\",df.sit_ups.mean(),\"   sit_ups Mode:\",df.sit_ups.mode())\n",
        "print(\"Max jumps:\",df.jumps.max(),\"  Min jumps:\",df.jumps.min(),\"  jumps Median:\",df.jumps.median(),\"   jumps Mean:\",df.jumps.mean(),\"   jumps Mode:\",df.jumps.mode())"
      ],
      "metadata": {
        "colab": {
          "base_uri": "https://localhost:8080/"
        },
        "id": "dnXfim9O9pDk",
        "outputId": "a20ccf31-1356-44ef-bda8-6b25b96b852a"
      },
      "execution_count": null,
      "outputs": [
        {
          "output_type": "stream",
          "name": "stdout",
          "text": [
            "Max chins: 247.0   Min chins: 138.0   Chins Median: 176.0    chins Mean: 178.6    Chins Mode: 0    154.0\n",
            "1    176.0\n",
            "2    189.0\n",
            "3    193.0\n",
            "dtype: float64\n",
            "Max Weight: 17.0   Min Weight: 1.0   Weight Median: 11.5    Weight Mean: 9.45    Weight Mode: 0    12.0\n",
            "dtype: float64\n",
            "Max Waist: 251.0   Min Waist: 50.0   Waist Median: 122.5    Waist Mean: 145.55    Waist Mode: 0    101.0\n",
            "dtype: float64\n",
            "Max Pules: 250.0   Min Pules: 25.0   Pules Median: 54.0    Pules Mean: 70.3    Pules Mode: 0    38.0\n",
            "1    40.0\n",
            "2    60.0\n",
            "dtype: float64\n",
            "Max sit_ups: 46.0   Min sit_ups: 31.0   sit_ups Median: 35.0    sit_ups Mean: 35.4    sit_ups Mode: 0    33.0\n",
            "dtype: float64\n",
            "Max jumps: 74.0   Min jumps: 46.0   jumps Median: 55.0    jumps Mean: 56.1    jumps Mode: 0    50.0\n",
            "1    52.0\n",
            "2    56.0\n",
            "dtype: float64\n"
          ]
        }
      ]
    }
  ]
}